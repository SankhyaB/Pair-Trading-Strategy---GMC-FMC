{
 "cells": [
  {
   "cell_type": "markdown",
   "id": "ecf5e2d3-4844-4d74-9f12-349835ac978a",
   "metadata": {},
   "source": [
    "### Pair Trading Strategy Between General Motors and Ford Motor Company"
   ]
  },
  {
   "cell_type": "markdown",
   "id": "5b4a338c-0e91-4843-926f-e5fdce124be6",
   "metadata": {},
   "source": [
    "We have a pair of securities/stock prices for General Motors and Ford Motor Company - that have an underlying economic link - two big automakers in the United States. It is expected that the difference in prices(spread) reamins constant over a period of time. "
   ]
  },
  {
   "cell_type": "markdown",
   "id": "45e21d82-49b3-43d1-bf8f-5133d548666e",
   "metadata": {},
   "source": [
    "##### Slight divergences may exist but these divergences are expected to revert back to normal with time, enabling us to make the pairs trade"
   ]
  },
  {
   "cell_type": "markdown",
   "id": "4e655d82-0159-4370-8444-496ea01362fc",
   "metadata": {},
   "source": [
    "#### How it works:\n",
    "When there is a temporary divergence, the trade sells the outperforming stock and buys the underperforming stock, thereby making a bet that the stread eventually converges by either one of them moving back to the original or both of them moving back. If both stocks move with each other, then we neither make nor lose any money"
   ]
  },
  {
   "cell_type": "code",
   "execution_count": 2,
   "id": "17481004-21df-401e-a116-391a76864bea",
   "metadata": {},
   "outputs": [],
   "source": [
    "#importing packages\n",
    "import numpy as np\n",
    "import pandas as pd\n",
    "import matplotlib.pyplot as plt\n",
    "#below package to perform linear regression\n",
    "import statsmodels.api as sm\n"
   ]
  },
  {
   "cell_type": "code",
   "execution_count": 18,
   "id": "d48ad18f-c800-4ad2-adfd-ed488fd60459",
   "metadata": {},
   "outputs": [],
   "source": [
    "df1 = pd.read_csv('GeneralMotorsData.csv')\n",
    "df2 = pd.read_csv('FordMotorCompanyData.csv')"
   ]
  },
  {
   "cell_type": "markdown",
   "id": "d551d0ec-c71f-497e-8195-91a58f769192",
   "metadata": {},
   "source": [
    "Note: Financial Data from February 7th 2020 to February 7th 2021 is split into training and testing sets and analysis is performed"
   ]
  },
  {
   "cell_type": "code",
   "execution_count": 19,
   "id": "82a035e4-7d83-4508-8688-7749f9859792",
   "metadata": {},
   "outputs": [],
   "source": [
    "#removing the first row to have matching information in both dataframes before merge\n",
    "df1 = df1.tail(-1)"
   ]
  },
  {
   "cell_type": "code",
   "execution_count": 21,
   "id": "1f8f286d-adf6-412a-9010-64aac0cdd0ef",
   "metadata": {},
   "outputs": [],
   "source": [
    "mainDF = pd.merge(df1,df2, on='Date', suffixes=('-GMC','-FMC'))\n"
   ]
  },
  {
   "cell_type": "code",
   "execution_count": 28,
   "id": "43ef3371-c1cc-4345-bdb0-7773a14b560b",
   "metadata": {},
   "outputs": [],
   "source": [
    "mainDF.set_index('Date', inplace=True)"
   ]
  },
  {
   "cell_type": "code",
   "execution_count": 43,
   "id": "f67beedb-e3a8-43d4-be3a-b9ed3929cfc9",
   "metadata": {},
   "outputs": [],
   "source": [
    "#training set - 75% of the information, test set - 25% of the information\n",
    "import math\n",
    "trainingSet = np.arange(0,math.floor((75./100)*mainDF.shape[0]))\n",
    "testSet = np.arange(trainingSet.shape[0],mainDF.shape[0])"
   ]
  },
  {
   "cell_type": "code",
   "execution_count": 51,
   "id": "7d9d0f69-30e1-4804-8391-736881f759ca",
   "metadata": {},
   "outputs": [],
   "source": [
    "#Determining the hedge ratio from the OLS\n",
    "x = mainDF.loc[:, 'Adj Close-GMC'].iloc[trainingSet]\n",
    "y = mainDF.loc[:,'Adj Close-FMC'].iloc[trainingSet]"
   ]
  },
  {
   "cell_type": "code",
   "execution_count": 54,
   "id": "d69be21e-64fc-4fc0-a5f8-3e23e943beeb",
   "metadata": {},
   "outputs": [],
   "source": [
    "modelResults = sm.OLS(x,y).fit()"
   ]
  },
  {
   "cell_type": "code",
   "execution_count": 58,
   "id": "df9b494d-e896-451f-b07f-43ef5265fdc7",
   "metadata": {},
   "outputs": [
    {
     "data": {
      "text/html": [
       "<table class=\"simpletable\">\n",
       "<caption>OLS Regression Results</caption>\n",
       "<tr>\n",
       "  <th>Dep. Variable:</th>      <td>Adj Close-GMC</td>  <th>  R-squared (uncentered):</th>      <td>   0.948</td> \n",
       "</tr>\n",
       "<tr>\n",
       "  <th>Model:</th>                   <td>OLS</td>       <th>  Adj. R-squared (uncentered):</th> <td>   0.948</td> \n",
       "</tr>\n",
       "<tr>\n",
       "  <th>Method:</th>             <td>Least Squares</td>  <th>  F-statistic:       </th>          <td>1.027e+04</td>\n",
       "</tr>\n",
       "<tr>\n",
       "  <th>Date:</th>             <td>Wed, 08 Feb 2023</td> <th>  Prob (F-statistic):</th>           <td>  0.00</td>  \n",
       "</tr>\n",
       "<tr>\n",
       "  <th>Time:</th>                 <td>16:22:14</td>     <th>  Log-Likelihood:    </th>          <td> -2129.3</td> \n",
       "</tr>\n",
       "<tr>\n",
       "  <th>No. Observations:</th>      <td>   565</td>      <th>  AIC:               </th>          <td>   4261.</td> \n",
       "</tr>\n",
       "<tr>\n",
       "  <th>Df Residuals:</th>          <td>   564</td>      <th>  BIC:               </th>          <td>   4265.</td> \n",
       "</tr>\n",
       "<tr>\n",
       "  <th>Df Model:</th>              <td>     1</td>      <th>                     </th>              <td> </td>    \n",
       "</tr>\n",
       "<tr>\n",
       "  <th>Covariance Type:</th>      <td>nonrobust</td>    <th>                     </th>              <td> </td>    \n",
       "</tr>\n",
       "</table>\n",
       "<table class=\"simpletable\">\n",
       "<tr>\n",
       "        <td></td>           <th>coef</th>     <th>std err</th>      <th>t</th>      <th>P>|t|</th>  <th>[0.025</th>    <th>0.975]</th>  \n",
       "</tr>\n",
       "<tr>\n",
       "  <th>Adj Close-FMC</th> <td>    3.6091</td> <td>    0.036</td> <td>  101.338</td> <td> 0.000</td> <td>    3.539</td> <td>    3.679</td>\n",
       "</tr>\n",
       "</table>\n",
       "<table class=\"simpletable\">\n",
       "<tr>\n",
       "  <th>Omnibus:</th>       <td>63.705</td> <th>  Durbin-Watson:     </th> <td>   0.007</td>\n",
       "</tr>\n",
       "<tr>\n",
       "  <th>Prob(Omnibus):</th> <td> 0.000</td> <th>  Jarque-Bera (JB):  </th> <td>  84.479</td>\n",
       "</tr>\n",
       "<tr>\n",
       "  <th>Skew:</th>          <td>-0.946</td> <th>  Prob(JB):          </th> <td>4.53e-19</td>\n",
       "</tr>\n",
       "<tr>\n",
       "  <th>Kurtosis:</th>      <td> 2.912</td> <th>  Cond. No.          </th> <td>    1.00</td>\n",
       "</tr>\n",
       "</table><br/><br/>Notes:<br/>[1] R² is computed without centering (uncentered) since the model does not contain a constant.<br/>[2] Standard Errors assume that the covariance matrix of the errors is correctly specified."
      ],
      "text/plain": [
       "<class 'statsmodels.iolib.summary.Summary'>\n",
       "\"\"\"\n",
       "                                 OLS Regression Results                                \n",
       "=======================================================================================\n",
       "Dep. Variable:          Adj Close-GMC   R-squared (uncentered):                   0.948\n",
       "Model:                            OLS   Adj. R-squared (uncentered):              0.948\n",
       "Method:                 Least Squares   F-statistic:                          1.027e+04\n",
       "Date:                Wed, 08 Feb 2023   Prob (F-statistic):                        0.00\n",
       "Time:                        16:22:14   Log-Likelihood:                         -2129.3\n",
       "No. Observations:                 565   AIC:                                      4261.\n",
       "Df Residuals:                     564   BIC:                                      4265.\n",
       "Df Model:                           1                                                  \n",
       "Covariance Type:            nonrobust                                                  \n",
       "=================================================================================\n",
       "                    coef    std err          t      P>|t|      [0.025      0.975]\n",
       "---------------------------------------------------------------------------------\n",
       "Adj Close-FMC     3.6091      0.036    101.338      0.000       3.539       3.679\n",
       "==============================================================================\n",
       "Omnibus:                       63.705   Durbin-Watson:                   0.007\n",
       "Prob(Omnibus):                  0.000   Jarque-Bera (JB):               84.479\n",
       "Skew:                          -0.946   Prob(JB):                     4.53e-19\n",
       "Kurtosis:                       2.912   Cond. No.                         1.00\n",
       "==============================================================================\n",
       "\n",
       "Notes:\n",
       "[1] R² is computed without centering (uncentered) since the model does not contain a constant.\n",
       "[2] Standard Errors assume that the covariance matrix of the errors is correctly specified.\n",
       "\"\"\""
      ]
     },
     "execution_count": 58,
     "metadata": {},
     "output_type": "execute_result"
    }
   ],
   "source": [
    "modelResults.summary()"
   ]
  },
  {
   "cell_type": "markdown",
   "id": "2762f826-1dfd-407a-8ce0-1646067a95ef",
   "metadata": {},
   "source": [
    "##### The Hedge Ratio is telling us the value of the position protected through the use of a hedge with the size of the entire position itself"
   ]
  },
  {
   "cell_type": "code",
   "execution_count": 64,
   "id": "2dda9c3e-6b9c-4f86-8be5-b42f36986789",
   "metadata": {},
   "outputs": [
    {
     "data": {
      "text/plain": [
       "Adj Close-FMC    3.609141\n",
       "dtype: float64"
      ]
     },
     "execution_count": 64,
     "metadata": {},
     "output_type": "execute_result"
    }
   ],
   "source": [
    "hedgeRatio = modelResults.params\n",
    "hedgeRatio"
   ]
  },
  {
   "cell_type": "markdown",
   "id": "f855213c-8957-4f6c-a3ae-c92d6adbce0a",
   "metadata": {},
   "source": [
    "Now time to define the entry and exit thresholds of the portfolio and look at the performance on the testing set"
   ]
  },
  {
   "cell_type": "code",
   "execution_count": 117,
   "id": "f4aab1be-a3b6-411a-9a08-c78236254683",
   "metadata": {},
   "outputs": [],
   "source": [
    "mainDF.index = pd.to_datetime(mainDF.index,format = '%Y-%m-%d %H:%M')"
   ]
  },
  {
   "cell_type": "code",
   "execution_count": 118,
   "id": "dfa81ba4-d743-4beb-9ba4-8b14314dd8ee",
   "metadata": {},
   "outputs": [],
   "source": [
    "spread = mainDF.loc[:,'Adj Close-GMC']-hedgeRatio[0]*mainDF.loc[:,'Adj Close-FMC']"
   ]
  },
  {
   "cell_type": "code",
   "execution_count": 124,
   "id": "c12b9460-9c99-492c-b5ff-8a7b7a4e8c3b",
   "metadata": {},
   "outputs": [
    {
     "data": {
      "text/plain": [
       "[<matplotlib.lines.Line2D at 0x28c489f90>]"
      ]
     },
     "execution_count": 124,
     "metadata": {},
     "output_type": "execute_result"
    },
    {
     "data": {
      "image/png": "[encoded data removed]",
      "text/plain": [
       "<Figure size 640x480 with 1 Axes>"
      ]
     },
     "metadata": {},
     "output_type": "display_data"
    }
   ],
   "source": [
    "#How the plots of the spread look for the training set and the test sets\n",
    "plt.figure()\n",
    "plt.title(\"Spread on Adj Close-GMC(TrainingSet)\")\n",
    "plt.ylabel(\"Spread Prices\")\n",
    "plt.xlabel(\"Timeframe\")\n",
    "ticks = list (mainDF.index)\n",
    "plt.xticks([ticks[i] for i in range(trainingSet.shape[0]) if i%75 == 0])\n",
    "plt.plot(spread.iloc[trainingSet])"
   ]
  },
  {
   "cell_type": "code",
   "execution_count": 220,
   "id": "b2426a55-03dc-485e-b1b0-87ce93c8d8b8",
   "metadata": {},
   "outputs": [
    {
     "data": {
      "text/plain": [
       "[<matplotlib.lines.Line2D at 0x28c763af0>]"
      ]
     },
     "execution_count": 220,
     "metadata": {},
     "output_type": "execute_result"
    },
    {
     "data": {
      "image/png": "[encoded data removed]",
      "text/plain": [
       "<Figure size 640x480 with 1 Axes>"
      ]
     },
     "metadata": {},
     "output_type": "display_data"
    }
   ],
   "source": [
    "plt.figure()\n",
    "plt.title(\"Spread on Adj Close-GMC(TestSet)\")\n",
    "plt.ylabel(\"Spread Prices\")\n",
    "plt.xlabel(\"Timeframe\")\n",
    "ticks = list (mainDF.index)\n",
    "plt.xticks([ticks[i] for i in range(testSet.shape[0]) if i%75 == 0])\n",
    "plt.plot(spread.iloc[testSet])"
   ]
  },
  {
   "cell_type": "code",
   "execution_count": 221,
   "id": "b97ff297-de9e-48a3-af0c-eef8910b5006",
   "metadata": {},
   "outputs": [],
   "source": [
    "spreadMean = np.mean(spread.iloc[trainingSet])\n",
    "spreadStd = np.std(spread.iloc[trainingSet])"
   ]
  },
  {
   "cell_type": "markdown",
   "id": "1179de92-4bf6-4373-be04-88ac97c59fb9",
   "metadata": {},
   "source": [
    "The z-scores = (spread value - spread mean)/spread Standard Deviation"
   ]
  },
  {
   "cell_type": "code",
   "execution_count": 264,
   "id": "6a0f833c-54a0-4097-934a-8d0d0f53f821",
   "metadata": {},
   "outputs": [
    {
     "data": {
      "text/plain": [
       "Date\n",
       "2020-02-11    0.350980\n",
       "2020-02-12    0.349520\n",
       "2020-02-13    0.326659\n",
       "2020-02-14    0.326697\n",
       "2020-02-18    0.306440\n",
       "                ...   \n",
       "2023-02-01   -1.301610\n",
       "2023-02-02   -1.273251\n",
       "2023-02-03   -0.921277\n",
       "2023-02-06   -0.868459\n",
       "2023-02-07   -0.973028\n",
       "Name: z-score, Length: 754, dtype: float64"
      ]
     },
     "execution_count": 264,
     "metadata": {},
     "output_type": "execute_result"
    }
   ],
   "source": [
    "mainDF['z-score'] = (spread - spreadMean)/spreadStd\n",
    "mainDF['z-score']"
   ]
  },
  {
   "cell_type": "code",
   "execution_count": 223,
   "id": "bc83206b-53a8-4efa-9730-0aa1c789191c",
   "metadata": {},
   "outputs": [],
   "source": [
    "#naming columns for long and short positions for both GMC and FMC\n",
    "mainDF['Positions-GMC-Long'] = mainDF['Positions-GMC-Short'] = mainDF['Positions-FMC-Short'] =  mainDF['Positions-FMC-Long'] = 0"
   ]
  },
  {
   "cell_type": "markdown",
   "id": "eea5ce25-09ae-487e-8a57-460b41b18358",
   "metadata": {},
   "source": [
    "#### General Probability Theory:\n",
    "- For positions with the zscore >=1.25 or <=-1.25 short and long positions on FMC and GMC\n",
    "- For positions with zscore >=0.25 or <=-0.25 perform the opposite and close the position\n",
    "\n"
   ]
  },
  {
   "cell_type": "code",
   "execution_count": 276,
   "id": "2acbf7fc-d368-403f-bfd1-fa0c645bcab9",
   "metadata": {},
   "outputs": [],
   "source": [
    "mainDF.loc[mainDF['z-score'] >= 1.25,('Positions-GMC-Short','Positions-FMC-Short')]=[-1,1]\n",
    "mainDF.loc[mainDF['z-score'] <= -1.25, ('Positions-GMC-Long','Positions-FMC-Long')]=[1,-1]\n"
   ]
  },
  {
   "cell_type": "code",
   "execution_count": 277,
   "id": "88732d23-d0b9-4216-81a5-9786aaf798fe",
   "metadata": {},
   "outputs": [],
   "source": [
    "mainDF.loc[mainDF['z-score'] >= -0.25, ('Positions-GMC-Long', 'Positions-FMC-Long')] = [0,0]\n",
    "mainDF.loc[mainDF['z-score'] <= 0.25, ('Positions-GMC-Short', 'Positions-FMC-Short')] = [0,0]"
   ]
  },
  {
   "cell_type": "code",
   "execution_count": 278,
   "id": "8e9b059c-64b4-40b0-a58a-64a323ba6032",
   "metadata": {},
   "outputs": [],
   "source": [
    "longPositions = mainDF.loc[:,('Positions-GMC-Long','Positions-FMC-Long')]\n",
    "shortPositions = mainDF.loc[:,('Positions-GMC-Short','Positions-FMC-Short')]"
   ]
  },
  {
   "cell_type": "code",
   "execution_count": 279,
   "id": "90180ab3-6db7-4e32-a92f-f7b38c42b0fb",
   "metadata": {},
   "outputs": [],
   "source": [
    "totalPositions = np.array(longPositions) + np.array(shortPositions)\n",
    "totalPositions = pd.DataFrame(totalPositions)\n"
   ]
  },
  {
   "cell_type": "code",
   "execution_count": 280,
   "id": "8967137a-48e3-4b8d-9a48-ef08aaa07ca6",
   "metadata": {},
   "outputs": [
    {
     "data": {
      "text/html": [
       "<div>\n",
       "<style scoped>\n",
       "    .dataframe tbody tr th:only-of-type {\n",
       "        vertical-align: middle;\n",
       "    }\n",
       "\n",
       "    .dataframe tbody tr th {\n",
       "        vertical-align: top;\n",
       "    }\n",
       "\n",
       "    .dataframe thead th {\n",
       "        text-align: right;\n",
       "    }\n",
       "</style>\n",
       "<table border=\"1\" class=\"dataframe\">\n",
       "  <thead>\n",
       "    <tr style=\"text-align: right;\">\n",
       "      <th></th>\n",
       "      <th>Adj Close-GMC</th>\n",
       "      <th>Adj Close-FMC</th>\n",
       "    </tr>\n",
       "    <tr>\n",
       "      <th>Date</th>\n",
       "      <th></th>\n",
       "      <th></th>\n",
       "    </tr>\n",
       "  </thead>\n",
       "  <tbody>\n",
       "    <tr>\n",
       "      <th>2020-02-11</th>\n",
       "      <td>NaN</td>\n",
       "      <td>NaN</td>\n",
       "    </tr>\n",
       "    <tr>\n",
       "      <th>2020-02-12</th>\n",
       "      <td>0.013710</td>\n",
       "      <td>0.017284</td>\n",
       "    </tr>\n",
       "    <tr>\n",
       "      <th>2020-02-13</th>\n",
       "      <td>-0.005635</td>\n",
       "      <td>0.001214</td>\n",
       "    </tr>\n",
       "    <tr>\n",
       "      <th>2020-02-14</th>\n",
       "      <td>-0.015018</td>\n",
       "      <td>-0.018182</td>\n",
       "    </tr>\n",
       "    <tr>\n",
       "      <th>2020-02-18</th>\n",
       "      <td>-0.010069</td>\n",
       "      <td>-0.004938</td>\n",
       "    </tr>\n",
       "    <tr>\n",
       "      <th>...</th>\n",
       "      <td>...</td>\n",
       "      <td>...</td>\n",
       "    </tr>\n",
       "    <tr>\n",
       "      <th>2023-02-01</th>\n",
       "      <td>-0.000509</td>\n",
       "      <td>0.020725</td>\n",
       "    </tr>\n",
       "    <tr>\n",
       "      <th>2023-02-02</th>\n",
       "      <td>0.055980</td>\n",
       "      <td>0.038434</td>\n",
       "    </tr>\n",
       "    <tr>\n",
       "      <th>2023-02-03</th>\n",
       "      <td>-0.008916</td>\n",
       "      <td>-0.076117</td>\n",
       "    </tr>\n",
       "    <tr>\n",
       "      <th>2023-02-06</th>\n",
       "      <td>0.005106</td>\n",
       "      <td>-0.006803</td>\n",
       "    </tr>\n",
       "    <tr>\n",
       "      <th>2023-02-07</th>\n",
       "      <td>0.001451</td>\n",
       "      <td>0.023592</td>\n",
       "    </tr>\n",
       "  </tbody>\n",
       "</table>\n",
       "<p>754 rows × 2 columns</p>\n",
       "</div>"
      ],
      "text/plain": [
       "            Adj Close-GMC  Adj Close-FMC\n",
       "Date                                    \n",
       "2020-02-11            NaN            NaN\n",
       "2020-02-12       0.013710       0.017284\n",
       "2020-02-13      -0.005635       0.001214\n",
       "2020-02-14      -0.015018      -0.018182\n",
       "2020-02-18      -0.010069      -0.004938\n",
       "...                   ...            ...\n",
       "2023-02-01      -0.000509       0.020725\n",
       "2023-02-02       0.055980       0.038434\n",
       "2023-02-03      -0.008916      -0.076117\n",
       "2023-02-06       0.005106      -0.006803\n",
       "2023-02-07       0.001451       0.023592\n",
       "\n",
       "[754 rows x 2 columns]"
      ]
     },
     "execution_count": 280,
     "metadata": {},
     "output_type": "execute_result"
    }
   ],
   "source": [
    "#Calculating the daily returns on the original Adj Close Returns\n",
    "dailyReturns = mainDF.loc[:,('Adj Close-GMC', 'Adj Close-FMC')].pct_change()\n",
    "dailyReturns"
   ]
  },
  {
   "cell_type": "code",
   "execution_count": 281,
   "id": "9dfa8e39-0594-496f-8986-b75025d745f5",
   "metadata": {},
   "outputs": [],
   "source": [
    "#since the first row of dailyReturns does not have any values\n",
    "comparisonReturns = (np.array(totalPositions.shift())*np.array(dailyReturns)).sum(axis = 1)\n"
   ]
  },
  {
   "cell_type": "code",
   "execution_count": 282,
   "id": "5abbdc36-823d-416d-bcd4-a990be548f08",
   "metadata": {},
   "outputs": [],
   "source": [
    "sharpeTestRatio = np.sqrt(252)*np.mean(comparisonReturns[testSet[1:]])/np.std(comparisonReturns[testSet[1:]])"
   ]
  },
  {
   "cell_type": "code",
   "execution_count": 289,
   "id": "ad6a8f8f-267e-4851-9013-68fb99681c56",
   "metadata": {},
   "outputs": [
    {
     "data": {
      "text/plain": [
       "2.3046087414201817"
      ]
     },
     "execution_count": 289,
     "metadata": {},
     "output_type": "execute_result"
    }
   ],
   "source": [
    "sharpeTestRatio\n"
   ]
  },
  {
   "cell_type": "markdown",
   "id": "c0520a16-834e-4422-9b99-de0dcfe8084c",
   "metadata": {},
   "source": [
    "Optimizing the parameters for the entry and exit thresholds results in a Sharpe Ratio for the test set of more tha 2.3\n",
    "-Due to the nature of the financial data retrieved from Yahoo, there appears to be survivorship bias in the background.\n",
    "There is a possibility of data snooping bias if the parameters are optimized in such a way so as to improve the testing set rather than the training set.\n",
    "Similar positions can be used for the pair trading strategy including but not limited to:\n",
    "- Gold and Silver\n",
    "- Coke and Pepsi\n",
    "-S&P 500 and Nasdaq 100"
   ]
  },
  {
   "cell_type": "code",
   "execution_count": null,
   "id": "21431fbc-7a8b-40aa-a725-9987eaab3bf0",
   "metadata": {},
   "outputs": [],
   "source": []
  }
 ],
 "metadata": {
  "kernelspec": {
   "display_name": "Python 3 (ipykernel)",
   "language": "python",
   "name": "python3"
  },
  "language_info": {
   "codemirror_mode": {
    "name": "ipython",
    "version": 3
   },
   "file_extension": ".py",
   "mimetype": "text/x-python",
   "name": "python",
   "nbconvert_exporter": "python",
   "pygments_lexer": "ipython3",
   "version": "3.10.8"
  }
 },
 "nbformat": 4,
 "nbformat_minor": 5
}
